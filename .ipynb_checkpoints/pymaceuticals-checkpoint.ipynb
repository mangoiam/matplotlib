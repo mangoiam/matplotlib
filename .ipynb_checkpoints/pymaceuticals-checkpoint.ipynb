{
 "cells": [
  {
   "cell_type": "markdown",
   "id": "a368be69",
   "metadata": {},
   "source": [
    "#Pymaceuticals, Inc.\n",
    "\n",
    "##Background\n",
    "A new pharmaceutical company that specializes in anti-cancer medications. Recently, it began screening for potential treatments for squamous cell carcinoma (SCC), a commonly occurring form of skin cancer.\n",
    "\n",
    "##Findings and Conclusion\n",
    "* Capomulin with 230 mice and Ramicane with 228 had the largest drug focus\n",
    "* As you can see based on the box plotter chart that Capomulin and Ramicane manage to have the highest reduction of tumors\n",
    "* As weight increased in mice so did the tumor hinting that weight did play a factor in tumor growth\n",
    "* Finally, mouse s185 show the greatest significat with drug Campoulim which shows the drug could be more effective. Howver futher analysis would have to be conducted\n"
   ]
  },
  {
   "cell_type": "code",
   "execution_count": 20,
   "id": "0290df10",
   "metadata": {},
   "outputs": [
    {
     "data": {
      "text/html": [
       "<div>\n",
       "<style scoped>\n",
       "    .dataframe tbody tr th:only-of-type {\n",
       "        vertical-align: middle;\n",
       "    }\n",
       "\n",
       "    .dataframe tbody tr th {\n",
       "        vertical-align: top;\n",
       "    }\n",
       "\n",
       "    .dataframe thead th {\n",
       "        text-align: right;\n",
       "    }\n",
       "</style>\n",
       "<table border=\"1\" class=\"dataframe\">\n",
       "  <thead>\n",
       "    <tr style=\"text-align: right;\">\n",
       "      <th></th>\n",
       "      <th>Mouse ID</th>\n",
       "      <th>Drug Regimen</th>\n",
       "      <th>Sex</th>\n",
       "      <th>Age_months</th>\n",
       "      <th>Weight (g)</th>\n",
       "      <th>Timepoint</th>\n",
       "      <th>Tumor Volume (mm3)</th>\n",
       "      <th>Metastatic Sites</th>\n",
       "    </tr>\n",
       "  </thead>\n",
       "  <tbody>\n",
       "    <tr>\n",
       "      <th>0</th>\n",
       "      <td>k403</td>\n",
       "      <td>Ramicane</td>\n",
       "      <td>Male</td>\n",
       "      <td>21</td>\n",
       "      <td>16</td>\n",
       "      <td>0</td>\n",
       "      <td>45.000000</td>\n",
       "      <td>0</td>\n",
       "    </tr>\n",
       "    <tr>\n",
       "      <th>1</th>\n",
       "      <td>k403</td>\n",
       "      <td>Ramicane</td>\n",
       "      <td>Male</td>\n",
       "      <td>21</td>\n",
       "      <td>16</td>\n",
       "      <td>5</td>\n",
       "      <td>38.825898</td>\n",
       "      <td>0</td>\n",
       "    </tr>\n",
       "    <tr>\n",
       "      <th>2</th>\n",
       "      <td>k403</td>\n",
       "      <td>Ramicane</td>\n",
       "      <td>Male</td>\n",
       "      <td>21</td>\n",
       "      <td>16</td>\n",
       "      <td>10</td>\n",
       "      <td>35.014271</td>\n",
       "      <td>1</td>\n",
       "    </tr>\n",
       "    <tr>\n",
       "      <th>3</th>\n",
       "      <td>k403</td>\n",
       "      <td>Ramicane</td>\n",
       "      <td>Male</td>\n",
       "      <td>21</td>\n",
       "      <td>16</td>\n",
       "      <td>15</td>\n",
       "      <td>34.223992</td>\n",
       "      <td>1</td>\n",
       "    </tr>\n",
       "    <tr>\n",
       "      <th>4</th>\n",
       "      <td>k403</td>\n",
       "      <td>Ramicane</td>\n",
       "      <td>Male</td>\n",
       "      <td>21</td>\n",
       "      <td>16</td>\n",
       "      <td>20</td>\n",
       "      <td>32.997729</td>\n",
       "      <td>1</td>\n",
       "    </tr>\n",
       "  </tbody>\n",
       "</table>\n",
       "</div>"
      ],
      "text/plain": [
       "  Mouse ID Drug Regimen   Sex  Age_months  Weight (g)  Timepoint  \\\n",
       "0     k403     Ramicane  Male          21          16          0   \n",
       "1     k403     Ramicane  Male          21          16          5   \n",
       "2     k403     Ramicane  Male          21          16         10   \n",
       "3     k403     Ramicane  Male          21          16         15   \n",
       "4     k403     Ramicane  Male          21          16         20   \n",
       "\n",
       "   Tumor Volume (mm3)  Metastatic Sites  \n",
       "0           45.000000                 0  \n",
       "1           38.825898                 0  \n",
       "2           35.014271                 1  \n",
       "3           34.223992                 1  \n",
       "4           32.997729                 1  "
      ]
     },
     "execution_count": 20,
     "metadata": {},
     "output_type": "execute_result"
    }
   ],
   "source": [
    "# Dependencies and Setup\n",
    "import matplotlib.pyplot as plt\n",
    "import pandas as pd\n",
    "import scipy.stats as st\n",
    "import numpy as np \n",
    "\n",
    "\n",
    "# Study data files\n",
    "mouse_metadata_path = \"data/Mouse_metadata.csv\"\n",
    "study_results_path = \"data/Study_results.csv\"\n",
    "\n",
    "# Read the mouse data and the study results\n",
    "mouse_metadata = pd.read_csv(mouse_metadata_path)\n",
    "study_results = pd.read_csv(study_results_path)\n",
    "\n",
    "# Combine the data into a single dataset\n",
    "data_merge_df = pd.merge(mouse_metadata, study_results, how='outer', on='Mouse ID')\n",
    "\n",
    "\n",
    "# Display the data table for preview\n",
    "data_merge_df.head()"
   ]
  },
  {
   "cell_type": "code",
   "execution_count": 25,
   "id": "5fe32cf0",
   "metadata": {},
   "outputs": [
    {
     "data": {
      "text/plain": [
       "249"
      ]
     },
     "execution_count": 25,
     "metadata": {},
     "output_type": "execute_result"
    }
   ],
   "source": [
    "# Checking the number of mice.\n",
    "number_of_mice = len(data_merge_df[\"Mouse ID\"].unique())\n",
    "number_of_mice"
   ]
  },
  {
   "cell_type": "code",
   "execution_count": 30,
   "id": "d8ee4a89",
   "metadata": {},
   "outputs": [
    {
     "data": {
      "text/plain": [
       "array(['g989'], dtype=object)"
      ]
     },
     "execution_count": 30,
     "metadata": {},
     "output_type": "execute_result"
    }
   ],
   "source": [
    "# Getting the duplicate mice by ID number that shows up for Mouse ID and Timepoint.\n",
    "mice_duplicates=data_merge_df.loc[data_merge_df.duplicated(subset=[\"Mouse ID\", \"Timepoint\",]), \"Mouse ID\"].unique()\n",
    "mice_duplicates\n"
   ]
  },
  {
   "cell_type": "code",
   "execution_count": 32,
   "id": "0cf84b12",
   "metadata": {},
   "outputs": [
    {
     "data": {
      "text/html": [
       "<div>\n",
       "<style scoped>\n",
       "    .dataframe tbody tr th:only-of-type {\n",
       "        vertical-align: middle;\n",
       "    }\n",
       "\n",
       "    .dataframe tbody tr th {\n",
       "        vertical-align: top;\n",
       "    }\n",
       "\n",
       "    .dataframe thead th {\n",
       "        text-align: right;\n",
       "    }\n",
       "</style>\n",
       "<table border=\"1\" class=\"dataframe\">\n",
       "  <thead>\n",
       "    <tr style=\"text-align: right;\">\n",
       "      <th></th>\n",
       "      <th>Mouse ID</th>\n",
       "      <th>Drug Regimen</th>\n",
       "      <th>Sex</th>\n",
       "      <th>Age_months</th>\n",
       "      <th>Weight (g)</th>\n",
       "      <th>Timepoint</th>\n",
       "      <th>Tumor Volume (mm3)</th>\n",
       "      <th>Metastatic Sites</th>\n",
       "    </tr>\n",
       "  </thead>\n",
       "  <tbody>\n",
       "    <tr>\n",
       "      <th>0</th>\n",
       "      <td>k403</td>\n",
       "      <td>Ramicane</td>\n",
       "      <td>Male</td>\n",
       "      <td>21</td>\n",
       "      <td>16</td>\n",
       "      <td>0</td>\n",
       "      <td>45.000000</td>\n",
       "      <td>0</td>\n",
       "    </tr>\n",
       "    <tr>\n",
       "      <th>1</th>\n",
       "      <td>k403</td>\n",
       "      <td>Ramicane</td>\n",
       "      <td>Male</td>\n",
       "      <td>21</td>\n",
       "      <td>16</td>\n",
       "      <td>5</td>\n",
       "      <td>38.825898</td>\n",
       "      <td>0</td>\n",
       "    </tr>\n",
       "    <tr>\n",
       "      <th>2</th>\n",
       "      <td>k403</td>\n",
       "      <td>Ramicane</td>\n",
       "      <td>Male</td>\n",
       "      <td>21</td>\n",
       "      <td>16</td>\n",
       "      <td>10</td>\n",
       "      <td>35.014271</td>\n",
       "      <td>1</td>\n",
       "    </tr>\n",
       "    <tr>\n",
       "      <th>3</th>\n",
       "      <td>k403</td>\n",
       "      <td>Ramicane</td>\n",
       "      <td>Male</td>\n",
       "      <td>21</td>\n",
       "      <td>16</td>\n",
       "      <td>15</td>\n",
       "      <td>34.223992</td>\n",
       "      <td>1</td>\n",
       "    </tr>\n",
       "    <tr>\n",
       "      <th>4</th>\n",
       "      <td>k403</td>\n",
       "      <td>Ramicane</td>\n",
       "      <td>Male</td>\n",
       "      <td>21</td>\n",
       "      <td>16</td>\n",
       "      <td>20</td>\n",
       "      <td>32.997729</td>\n",
       "      <td>1</td>\n",
       "    </tr>\n",
       "    <tr>\n",
       "      <th>...</th>\n",
       "      <td>...</td>\n",
       "      <td>...</td>\n",
       "      <td>...</td>\n",
       "      <td>...</td>\n",
       "      <td>...</td>\n",
       "      <td>...</td>\n",
       "      <td>...</td>\n",
       "      <td>...</td>\n",
       "    </tr>\n",
       "    <tr>\n",
       "      <th>1888</th>\n",
       "      <td>z969</td>\n",
       "      <td>Naftisol</td>\n",
       "      <td>Male</td>\n",
       "      <td>9</td>\n",
       "      <td>30</td>\n",
       "      <td>25</td>\n",
       "      <td>63.145652</td>\n",
       "      <td>2</td>\n",
       "    </tr>\n",
       "    <tr>\n",
       "      <th>1889</th>\n",
       "      <td>z969</td>\n",
       "      <td>Naftisol</td>\n",
       "      <td>Male</td>\n",
       "      <td>9</td>\n",
       "      <td>30</td>\n",
       "      <td>30</td>\n",
       "      <td>65.841013</td>\n",
       "      <td>3</td>\n",
       "    </tr>\n",
       "    <tr>\n",
       "      <th>1890</th>\n",
       "      <td>z969</td>\n",
       "      <td>Naftisol</td>\n",
       "      <td>Male</td>\n",
       "      <td>9</td>\n",
       "      <td>30</td>\n",
       "      <td>35</td>\n",
       "      <td>69.176246</td>\n",
       "      <td>4</td>\n",
       "    </tr>\n",
       "    <tr>\n",
       "      <th>1891</th>\n",
       "      <td>z969</td>\n",
       "      <td>Naftisol</td>\n",
       "      <td>Male</td>\n",
       "      <td>9</td>\n",
       "      <td>30</td>\n",
       "      <td>40</td>\n",
       "      <td>70.314904</td>\n",
       "      <td>4</td>\n",
       "    </tr>\n",
       "    <tr>\n",
       "      <th>1892</th>\n",
       "      <td>z969</td>\n",
       "      <td>Naftisol</td>\n",
       "      <td>Male</td>\n",
       "      <td>9</td>\n",
       "      <td>30</td>\n",
       "      <td>45</td>\n",
       "      <td>73.867845</td>\n",
       "      <td>4</td>\n",
       "    </tr>\n",
       "  </tbody>\n",
       "</table>\n",
       "<p>1880 rows × 8 columns</p>\n",
       "</div>"
      ],
      "text/plain": [
       "     Mouse ID Drug Regimen   Sex  Age_months  Weight (g)  Timepoint  \\\n",
       "0        k403     Ramicane  Male          21          16          0   \n",
       "1        k403     Ramicane  Male          21          16          5   \n",
       "2        k403     Ramicane  Male          21          16         10   \n",
       "3        k403     Ramicane  Male          21          16         15   \n",
       "4        k403     Ramicane  Male          21          16         20   \n",
       "...       ...          ...   ...         ...         ...        ...   \n",
       "1888     z969     Naftisol  Male           9          30         25   \n",
       "1889     z969     Naftisol  Male           9          30         30   \n",
       "1890     z969     Naftisol  Male           9          30         35   \n",
       "1891     z969     Naftisol  Male           9          30         40   \n",
       "1892     z969     Naftisol  Male           9          30         45   \n",
       "\n",
       "      Tumor Volume (mm3)  Metastatic Sites  \n",
       "0              45.000000                 0  \n",
       "1              38.825898                 0  \n",
       "2              35.014271                 1  \n",
       "3              34.223992                 1  \n",
       "4              32.997729                 1  \n",
       "...                  ...               ...  \n",
       "1888           63.145652                 2  \n",
       "1889           65.841013                 3  \n",
       "1890           69.176246                 4  \n",
       "1891           70.314904                 4  \n",
       "1892           73.867845                 4  \n",
       "\n",
       "[1880 rows x 8 columns]"
      ]
     },
     "execution_count": 32,
     "metadata": {},
     "output_type": "execute_result"
    }
   ],
   "source": [
    "#new data frame without duplicates\n",
    "new_data_frame=data_merge_df[data_merge_df['Mouse ID'].isin(mice_duplicates)==False]\n",
    "new_data_frame"
   ]
  },
  {
   "cell_type": "code",
   "execution_count": 37,
   "id": "e504e9f3",
   "metadata": {},
   "outputs": [
    {
     "data": {
      "text/plain": [
       "248"
      ]
     },
     "execution_count": 37,
     "metadata": {},
     "output_type": "execute_result"
    }
   ],
   "source": [
    "#Display the updated number of unique mice IDs.\n",
    "updated_mice = new_data_frame[\"Mouse ID\"].nunique()\n",
    "updated_mice"
   ]
  },
  {
   "cell_type": "markdown",
   "id": "2db5fcbb",
   "metadata": {},
   "source": [
    "#Summary Statistics"
   ]
  },
  {
   "cell_type": "code",
   "execution_count": 45,
   "id": "02fee6b5",
   "metadata": {},
   "outputs": [
    {
     "data": {
      "text/html": [
       "<div>\n",
       "<style scoped>\n",
       "    .dataframe tbody tr th:only-of-type {\n",
       "        vertical-align: middle;\n",
       "    }\n",
       "\n",
       "    .dataframe tbody tr th {\n",
       "        vertical-align: top;\n",
       "    }\n",
       "\n",
       "    .dataframe thead th {\n",
       "        text-align: right;\n",
       "    }\n",
       "</style>\n",
       "<table border=\"1\" class=\"dataframe\">\n",
       "  <thead>\n",
       "    <tr style=\"text-align: right;\">\n",
       "      <th></th>\n",
       "      <th>Mean_Tum_Volume</th>\n",
       "      <th>Median_Tum_Volume</th>\n",
       "      <th>Variance_Tum_Volume</th>\n",
       "      <th>Standard_Deviation_Tum_Volume</th>\n",
       "      <th>SEM_Tum_Volume</th>\n",
       "    </tr>\n",
       "    <tr>\n",
       "      <th>Drug Regimen</th>\n",
       "      <th></th>\n",
       "      <th></th>\n",
       "      <th></th>\n",
       "      <th></th>\n",
       "      <th></th>\n",
       "    </tr>\n",
       "  </thead>\n",
       "  <tbody>\n",
       "    <tr>\n",
       "      <th>Capomulin</th>\n",
       "      <td>40.675741</td>\n",
       "      <td>41.557809</td>\n",
       "      <td>24.947764</td>\n",
       "      <td>4.994774</td>\n",
       "      <td>0.329346</td>\n",
       "    </tr>\n",
       "    <tr>\n",
       "      <th>Ceftamin</th>\n",
       "      <td>52.591172</td>\n",
       "      <td>51.776157</td>\n",
       "      <td>39.290177</td>\n",
       "      <td>6.268188</td>\n",
       "      <td>0.469821</td>\n",
       "    </tr>\n",
       "    <tr>\n",
       "      <th>Infubinol</th>\n",
       "      <td>52.884795</td>\n",
       "      <td>51.820584</td>\n",
       "      <td>43.128684</td>\n",
       "      <td>6.567243</td>\n",
       "      <td>0.492236</td>\n",
       "    </tr>\n",
       "    <tr>\n",
       "      <th>Ketapril</th>\n",
       "      <td>55.235638</td>\n",
       "      <td>53.698743</td>\n",
       "      <td>68.553577</td>\n",
       "      <td>8.279709</td>\n",
       "      <td>0.603860</td>\n",
       "    </tr>\n",
       "    <tr>\n",
       "      <th>Naftisol</th>\n",
       "      <td>54.331565</td>\n",
       "      <td>52.509285</td>\n",
       "      <td>66.173479</td>\n",
       "      <td>8.134708</td>\n",
       "      <td>0.596466</td>\n",
       "    </tr>\n",
       "    <tr>\n",
       "      <th>Placebo</th>\n",
       "      <td>54.033581</td>\n",
       "      <td>52.288934</td>\n",
       "      <td>61.168083</td>\n",
       "      <td>7.821003</td>\n",
       "      <td>0.581331</td>\n",
       "    </tr>\n",
       "    <tr>\n",
       "      <th>Propriva</th>\n",
       "      <td>52.320930</td>\n",
       "      <td>50.446266</td>\n",
       "      <td>43.852013</td>\n",
       "      <td>6.622085</td>\n",
       "      <td>0.544332</td>\n",
       "    </tr>\n",
       "    <tr>\n",
       "      <th>Ramicane</th>\n",
       "      <td>40.216745</td>\n",
       "      <td>40.673236</td>\n",
       "      <td>23.486704</td>\n",
       "      <td>4.846308</td>\n",
       "      <td>0.320955</td>\n",
       "    </tr>\n",
       "    <tr>\n",
       "      <th>Stelasyn</th>\n",
       "      <td>54.233149</td>\n",
       "      <td>52.431737</td>\n",
       "      <td>59.450562</td>\n",
       "      <td>7.710419</td>\n",
       "      <td>0.573111</td>\n",
       "    </tr>\n",
       "    <tr>\n",
       "      <th>Zoniferol</th>\n",
       "      <td>53.236507</td>\n",
       "      <td>51.818479</td>\n",
       "      <td>48.533355</td>\n",
       "      <td>6.966589</td>\n",
       "      <td>0.516398</td>\n",
       "    </tr>\n",
       "  </tbody>\n",
       "</table>\n",
       "</div>"
      ],
      "text/plain": [
       "              Mean_Tum_Volume  Median_Tum_Volume  Variance_Tum_Volume  \\\n",
       "Drug Regimen                                                            \n",
       "Capomulin           40.675741          41.557809            24.947764   \n",
       "Ceftamin            52.591172          51.776157            39.290177   \n",
       "Infubinol           52.884795          51.820584            43.128684   \n",
       "Ketapril            55.235638          53.698743            68.553577   \n",
       "Naftisol            54.331565          52.509285            66.173479   \n",
       "Placebo             54.033581          52.288934            61.168083   \n",
       "Propriva            52.320930          50.446266            43.852013   \n",
       "Ramicane            40.216745          40.673236            23.486704   \n",
       "Stelasyn            54.233149          52.431737            59.450562   \n",
       "Zoniferol           53.236507          51.818479            48.533355   \n",
       "\n",
       "              Standard_Deviation_Tum_Volume  SEM_Tum_Volume  \n",
       "Drug Regimen                                                 \n",
       "Capomulin                          4.994774        0.329346  \n",
       "Ceftamin                           6.268188        0.469821  \n",
       "Infubinol                          6.567243        0.492236  \n",
       "Ketapril                           8.279709        0.603860  \n",
       "Naftisol                           8.134708        0.596466  \n",
       "Placebo                            7.821003        0.581331  \n",
       "Propriva                           6.622085        0.544332  \n",
       "Ramicane                           4.846308        0.320955  \n",
       "Stelasyn                           7.710419        0.573111  \n",
       "Zoniferol                          6.966589        0.516398  "
      ]
     },
     "execution_count": 45,
     "metadata": {},
     "output_type": "execute_result"
    }
   ],
   "source": [
    "#group by stats category and summarize\n",
    "mean_stats = new_data_frame.groupby(\"Drug Regimen\").mean()[(\"Tumor Volume (mm3)\")]\n",
    "median_stats = new_data_frame.groupby(\"Drug Regimen\").median()[(\"Tumor Volume (mm3)\")]\n",
    "variance_stats = new_data_frame.groupby(\"Drug Regimen\").var()[(\"Tumor Volume (mm3)\")]\n",
    "std_dv_stats = new_data_frame.groupby(\"Drug Regimen\").std()[(\"Tumor Volume (mm3)\")]\n",
    "sem_stats = new_data_frame.groupby(\"Drug Regimen\").sem()[(\"Tumor Volume (mm3)\")]\n",
    "\n",
    "sum_table = pd.DataFrame({\"Mean_Tum_Volume\": mean_stats,\n",
    "                          \"Median_Tum_Volume\": median_stats,\n",
    "                          \"Variance_Tum_Volume\": variance_stats,\n",
    "                          \"Standard_Deviation_Tum_Volume\": std_dv_stats,\n",
    "                          \"SEM_Tum_Volume\": sem_stats})\n",
    "sum_table"
   ]
  },
  {
   "cell_type": "markdown",
   "id": "50e31c90",
   "metadata": {},
   "source": [
    "#Create Bar Charts and Pie Charts"
   ]
  },
  {
   "cell_type": "code",
   "execution_count": 100,
   "id": "aafc84be",
   "metadata": {},
   "outputs": [
    {
     "data": {
      "text/plain": [
       "Drug Regimen\n",
       "Capomulin    230\n",
       "Ceftamin     178\n",
       "Infubinol    178\n",
       "Ketapril     188\n",
       "Naftisol     186\n",
       "Placebo      181\n",
       "Propriva     161\n",
       "Ramicane     228\n",
       "Stelasyn     181\n",
       "Zoniferol    182\n",
       "Name: Mouse ID, dtype: int64"
      ]
     },
     "execution_count": 100,
     "metadata": {},
     "output_type": "execute_result"
    },
    {
     "data": {
      "image/png": "[encoded data removed]",
      "text/plain": [
       "<Figure size 600x500 with 1 Axes>"
      ]
     },
     "metadata": {},
     "output_type": "display_data"
    }
   ],
   "source": [
    "#pandas plot laying out timepoints for all drugs used on mice\n",
    "dataframe_pandas_plot = data_merge_df.groupby('Drug Regimen').count()['Mouse ID']\n",
    "dataframe_pandas_plot.plot(kind=\"bar\", figsize=(6,5), color=\"red\")\n",
    "dataframe_plot\n",
    "\n",
    "\n",
    "#tried to assign each bar a different colore but could not figure out\n",
    "#x = [Capomulin, Ceftamin, Infubinol, Ketapril, Naftisol, Placebo, Propriva, Ramicane, Stelasyn, Zoniferol ]\n",
    "#c = ['red', 'yellow', 'black', 'blue', 'orange', 'olive', 'cyan', 'green', 'purple', 'pink']\n",
    " \n",
    "\n",
    " \n",
    "dataframe_plot"
   ]
  },
  {
   "cell_type": "code",
   "execution_count": 101,
   "id": "7d7c0b80",
   "metadata": {},
   "outputs": [
    {
     "data": {
      "image/png": "[encoded data removed]",
      "text/plain": [
       "<Figure size 600x500 with 1 Axes>"
      ]
     },
     "metadata": {},
     "output_type": "display_data"
    }
   ],
   "source": [
    "#matplotlib plot laying out timepoints for all drugs used on mice\n",
    "x_axis = np.arange(len(dataframe_pandas_plot))\n",
    "tick_x = [x for x in x_axis]\n",
    "\n",
    "\n",
    "plt.figure(figsize=(6,5))\n",
    "plt.bar(x_axis, dataframe_pandas_plot,color = \"red\", alpha=1, align=\"center\")\n",
    "plt.xticks(tick_x,dataframe_pandas_plot.index.values, rotation=\"vertical\")\n",
    "\n",
    "plt.title(\"Total Number of Timepoints by Drug Regimen\")\n",
    "plt.xlabel(\"Drug Regimen\")\n",
    "plt.ylabel(\"# of mice\")\n",
    "\n",
    "\n",
    "plt.show()\n",
    "\n"
   ]
  },
  {
   "cell_type": "code",
   "execution_count": 99,
   "id": "279fb486",
   "metadata": {},
   "outputs": [
    {
     "data": {
      "text/plain": [
       "<matplotlib.legend.Legend at 0x7faf72dd5eb0>"
      ]
     },
     "execution_count": 99,
     "metadata": {},
     "output_type": "execute_result"
    },
    {
     "data": {
      "image/png": "[encoded data removed]",
      "text/plain": [
       "<Figure size 600x500 with 1 Axes>"
      ]
     },
     "metadata": {},
     "output_type": "display_data"
    }
   ],
   "source": [
    "#pie chart by sex using pandas\n",
    "mice_sex= data_merge_df.groupby(['Sex'])\n",
    "mouse = mice_sex['Sex'].count()\n",
    "plot = mouse.plot.pie(y='mass', figsize=(6, 5), colors = [\"Blue\", \"Pink\"], autopct = '%1.1f%%')\n",
    "plot.legend(['Female', \"Male\"])"
   ]
  },
  {
   "cell_type": "code",
   "execution_count": 120,
   "id": "91c2a878",
   "metadata": {},
   "outputs": [
    {
     "data": {
      "text/plain": [
       "<matplotlib.legend.Legend at 0x7faf73025c10>"
      ]
     },
     "execution_count": 120,
     "metadata": {},
     "output_type": "execute_result"
    },
    {
     "data": {
      "image/png": "[encoded data removed]",
      "text/plain": [
       "<Figure size 600x500 with 1 Axes>"
      ]
     },
     "metadata": {},
     "output_type": "display_data"
    }
   ],
   "source": [
    "#####"
   ]
  },
  {
   "cell_type": "code",
   "execution_count": null,
   "id": "67a5f505",
   "metadata": {},
   "outputs": [],
   "source": [
    "#Calculate Quartiles, Find Outliers, and Create a Box Plot"
   ]
  },
  {
   "cell_type": "code",
   "execution_count": 130,
   "id": "be20eccf",
   "metadata": {},
   "outputs": [
    {
     "data": {
      "text/html": [
       "<div>\n",
       "<style scoped>\n",
       "    .dataframe tbody tr th:only-of-type {\n",
       "        vertical-align: middle;\n",
       "    }\n",
       "\n",
       "    .dataframe tbody tr th {\n",
       "        vertical-align: top;\n",
       "    }\n",
       "\n",
       "    .dataframe thead th {\n",
       "        text-align: right;\n",
       "    }\n",
       "</style>\n",
       "<table border=\"1\" class=\"dataframe\">\n",
       "  <thead>\n",
       "    <tr style=\"text-align: right;\">\n",
       "      <th></th>\n",
       "      <th>Mouse ID</th>\n",
       "      <th>Timepoint</th>\n",
       "      <th>Drug Regimen</th>\n",
       "      <th>Sex</th>\n",
       "      <th>Age_months</th>\n",
       "      <th>Weight (g)</th>\n",
       "      <th>Tumor Volume (mm3)</th>\n",
       "      <th>Metastatic Sites</th>\n",
       "    </tr>\n",
       "  </thead>\n",
       "  <tbody>\n",
       "    <tr>\n",
       "      <th>0</th>\n",
       "      <td>a203</td>\n",
       "      <td>45</td>\n",
       "      <td>Infubinol</td>\n",
       "      <td>Female</td>\n",
       "      <td>20</td>\n",
       "      <td>23</td>\n",
       "      <td>67.973419</td>\n",
       "      <td>2</td>\n",
       "    </tr>\n",
       "    <tr>\n",
       "      <th>1</th>\n",
       "      <td>a251</td>\n",
       "      <td>45</td>\n",
       "      <td>Infubinol</td>\n",
       "      <td>Female</td>\n",
       "      <td>21</td>\n",
       "      <td>25</td>\n",
       "      <td>65.525743</td>\n",
       "      <td>1</td>\n",
       "    </tr>\n",
       "    <tr>\n",
       "      <th>2</th>\n",
       "      <td>a262</td>\n",
       "      <td>45</td>\n",
       "      <td>Placebo</td>\n",
       "      <td>Female</td>\n",
       "      <td>17</td>\n",
       "      <td>29</td>\n",
       "      <td>70.717621</td>\n",
       "      <td>4</td>\n",
       "    </tr>\n",
       "    <tr>\n",
       "      <th>3</th>\n",
       "      <td>a275</td>\n",
       "      <td>45</td>\n",
       "      <td>Ceftamin</td>\n",
       "      <td>Female</td>\n",
       "      <td>20</td>\n",
       "      <td>28</td>\n",
       "      <td>62.999356</td>\n",
       "      <td>3</td>\n",
       "    </tr>\n",
       "    <tr>\n",
       "      <th>4</th>\n",
       "      <td>a366</td>\n",
       "      <td>30</td>\n",
       "      <td>Stelasyn</td>\n",
       "      <td>Female</td>\n",
       "      <td>16</td>\n",
       "      <td>29</td>\n",
       "      <td>63.440686</td>\n",
       "      <td>1</td>\n",
       "    </tr>\n",
       "    <tr>\n",
       "      <th>...</th>\n",
       "      <td>...</td>\n",
       "      <td>...</td>\n",
       "      <td>...</td>\n",
       "      <td>...</td>\n",
       "      <td>...</td>\n",
       "      <td>...</td>\n",
       "      <td>...</td>\n",
       "      <td>...</td>\n",
       "    </tr>\n",
       "    <tr>\n",
       "      <th>244</th>\n",
       "      <td>z435</td>\n",
       "      <td>10</td>\n",
       "      <td>Propriva</td>\n",
       "      <td>Female</td>\n",
       "      <td>12</td>\n",
       "      <td>26</td>\n",
       "      <td>48.710661</td>\n",
       "      <td>0</td>\n",
       "    </tr>\n",
       "    <tr>\n",
       "      <th>245</th>\n",
       "      <td>z578</td>\n",
       "      <td>45</td>\n",
       "      <td>Ramicane</td>\n",
       "      <td>Male</td>\n",
       "      <td>11</td>\n",
       "      <td>16</td>\n",
       "      <td>30.638696</td>\n",
       "      <td>0</td>\n",
       "    </tr>\n",
       "    <tr>\n",
       "      <th>246</th>\n",
       "      <td>z581</td>\n",
       "      <td>45</td>\n",
       "      <td>Infubinol</td>\n",
       "      <td>Female</td>\n",
       "      <td>24</td>\n",
       "      <td>25</td>\n",
       "      <td>62.754451</td>\n",
       "      <td>3</td>\n",
       "    </tr>\n",
       "    <tr>\n",
       "      <th>247</th>\n",
       "      <td>z795</td>\n",
       "      <td>45</td>\n",
       "      <td>Naftisol</td>\n",
       "      <td>Female</td>\n",
       "      <td>13</td>\n",
       "      <td>29</td>\n",
       "      <td>65.741070</td>\n",
       "      <td>3</td>\n",
       "    </tr>\n",
       "    <tr>\n",
       "      <th>248</th>\n",
       "      <td>z969</td>\n",
       "      <td>45</td>\n",
       "      <td>Naftisol</td>\n",
       "      <td>Male</td>\n",
       "      <td>9</td>\n",
       "      <td>30</td>\n",
       "      <td>73.867845</td>\n",
       "      <td>4</td>\n",
       "    </tr>\n",
       "  </tbody>\n",
       "</table>\n",
       "<p>249 rows × 8 columns</p>\n",
       "</div>"
      ],
      "text/plain": [
       "    Mouse ID  Timepoint Drug Regimen     Sex  Age_months  Weight (g)  \\\n",
       "0       a203         45    Infubinol  Female          20          23   \n",
       "1       a251         45    Infubinol  Female          21          25   \n",
       "2       a262         45      Placebo  Female          17          29   \n",
       "3       a275         45     Ceftamin  Female          20          28   \n",
       "4       a366         30     Stelasyn  Female          16          29   \n",
       "..       ...        ...          ...     ...         ...         ...   \n",
       "244     z435         10     Propriva  Female          12          26   \n",
       "245     z578         45     Ramicane    Male          11          16   \n",
       "246     z581         45    Infubinol  Female          24          25   \n",
       "247     z795         45     Naftisol  Female          13          29   \n",
       "248     z969         45     Naftisol    Male           9          30   \n",
       "\n",
       "     Tumor Volume (mm3)  Metastatic Sites  \n",
       "0             67.973419                 2  \n",
       "1             65.525743                 1  \n",
       "2             70.717621                 4  \n",
       "3             62.999356                 3  \n",
       "4             63.440686                 1  \n",
       "..                  ...               ...  \n",
       "244           48.710661                 0  \n",
       "245           30.638696                 0  \n",
       "246           62.754451                 3  \n",
       "247           65.741070                 3  \n",
       "248           73.867845                 4  \n",
       "\n",
       "[249 rows x 8 columns]"
      ]
     },
     "execution_count": 130,
     "metadata": {},
     "output_type": "execute_result"
    }
   ],
   "source": [
    "# Calculate the final tumor volume of each mouse across four of the treatment regimens:  \n",
    "# Capomulin, Ramicane, Infubinol, and Ceftamin\n",
    "# Start by getting the last (greatest) timepoint for each mouse\n",
    "\n",
    "mice_id = data_merge_df.groupby(\"Mouse ID\")\n",
    "max_timepoint = mice_id['Timepoint'].max()\n",
    "max_timepoint = max_timepoint.reset_index()\n",
    "\n",
    "# Merge this group df with the original dataframe to get the tumor volume at the last timepoint\n",
    "max_timepoint_volume = max_timepoint.merge(data_merge_df, on=[\"Mouse ID\", \"Timepoint\"], how=\"left\")\n",
    "max_timepoint_volume"
   ]
  },
  {
   "cell_type": "code",
   "execution_count": 136,
   "id": "b4d60b2c",
   "metadata": {},
   "outputs": [
    {
     "data": {
      "image/png": "[encoded data removed]",
      "text/plain": [
       "<Figure size 640x480 with 1 Axes>"
      ]
     },
     "metadata": {},
     "output_type": "display_data"
    }
   ],
   "source": [
    "# Put treatments into a list for for loop (and later for plot labels)\n",
    "regimens = [\"Capomulin\", \"Ramicane\", \"Infubinol\", \"Ceftamin\"]\n",
    "\n",
    "# Create empty list to fill with tumor vol data (for plotting)\n",
    "tumor_volume = []\n",
    "\n",
    "# Calculate the IQR and quantitatively determine if there are any potential outliers. \n",
    "quartiles = max_timepoint_volume[\"Tumor Volume (mm3)\"].quantile([.25,.5,.75])\n",
    "lowerq = quartiles[0.25]\n",
    "upperq = quartiles[0.75]\n",
    "iqr = upperq-lowerq\n",
    "\n",
    "for drug in regimens:\n",
    "    tumor_by_drug = max_timepoint_volume.loc[max_timepoint_volume[\"Drug Regimen\"] == drug, \"Tumor Volume (mm3)\"]\n",
    "    tumor_volume.append(tumor_by_drug)\n",
    "\n",
    "lowerbound = lowerq - (1.5*iqr)\n",
    "upperbound = upperq + (1.5*iqr)\n",
    "\n",
    "# Generate a box plot of the final tumor volume of each mouse across four regimens of interest\n",
    "fig1, ax1 = plt.subplots()\n",
    "x = [1,2,3,4]\n",
    "ax1.set_title(\"Tumor Volume by Drug\")\n",
    "ax1.set_ylabel(\"Tumor Volume\" \"(mm3)\")\n",
    "ax1.set_xlabel(\"Drug\")\n",
    "ax1.boxplot(tumor_volume)\n",
    "plt.xticks(x, regimens)\n",
    "plt.show()"
   ]
  },
  {
   "cell_type": "code",
   "execution_count": null,
   "id": "5b3fcde7",
   "metadata": {},
   "outputs": [],
   "source": [
    "#Line Plot, Scatter Plot, Linear Regression Plot"
   ]
  },
  {
   "cell_type": "code",
   "execution_count": 142,
   "id": "b64d6864",
   "metadata": {},
   "outputs": [
    {
     "data": {
      "image/png": "[encoded data removed]",
      "text/plain": [
       "<Figure size 640x480 with 1 Axes>"
      ]
     },
     "metadata": {},
     "output_type": "display_data"
    }
   ],
   "source": [
    "# Generate a line plot of tumor volume vs. time point for a mouse treated with Capomulin\n",
    "line_df = data_merge_df.loc[(data_merge_df['Mouse ID'] == 's185')]\n",
    "\n",
    "timepoint = line_df['Timepoint']\n",
    "tumor = line_df[\"Tumor Volume (mm3)\"]\n",
    "plt.plot(timepoint,tumor, marker = 'D')\n",
    "plt.title(\"Mouse s185 Tumor - Decreased\")\n",
    "plt.xlabel('Timepoint')\n",
    "plt.ylabel('Tumor Volume')\n",
    "\n",
    "plt.show()"
   ]
  },
  {
   "cell_type": "code",
   "execution_count": 146,
   "id": "b576522d",
   "metadata": {},
   "outputs": [
    {
     "data": {
      "text/plain": [
       "Text(0, 0.5, 'Tumor Volume (mm3)')"
      ]
     },
     "execution_count": 146,
     "metadata": {},
     "output_type": "execute_result"
    },
    {
     "data": {
      "image/png": "[encoded data removed]",
      "text/plain": [
       "<Figure size 640x480 with 1 Axes>"
      ]
     },
     "metadata": {},
     "output_type": "display_data"
    }
   ],
   "source": [
    "# Generate a scatter plot of average tumor volume vs. mouse weight for the Capomulin regimen\n",
    "capomulin_df = data_merge_df.loc[data_merge_df[\"Drug Regimen\"] == \"Capomulin\"]\n",
    "avg_tumor = capomulin_df.groupby([\"Mouse ID\"]).mean()\n",
    "x_values = avg_tumor[\"Weight (g)\"]\n",
    "y_values = avg_tumor[\"Tumor Volume (mm3)\"]\n",
    "plt.scatter(x_values, y_values)\n",
    "plt.title(\"Capomulin Results\")\n",
    "plt.xlabel(\"Weight (g)\")\n",
    "plt.ylabel(\"Tumor Volume (mm3)\")"
   ]
  },
  {
   "cell_type": "code",
   "execution_count": 147,
   "id": "1da5f1fb",
   "metadata": {},
   "outputs": [
    {
     "name": "stdout",
     "output_type": "stream",
     "text": [
      "The correlation coefficient is 0.84\n"
     ]
    }
   ],
   "source": [
    "# Calculate the correlation coefficient and linear regression model \n",
    "# for mouse weight and average tumor volume for the Capomulin regimen\n",
    "\n",
    "correlation = st.pearsonr(x_values, y_values)\n",
    "print(f\"The correlation coefficient is {round(correlation[0],2)}\")"
   ]
  },
  {
   "cell_type": "code",
   "execution_count": 150,
   "id": "8a9175f3",
   "metadata": {},
   "outputs": [
    {
     "data": {
      "text/plain": [
       "LinregressResult(slope=0.2875853579447794, intercept=8.26746981560067, rvalue=0.5256995552077169, pvalue=9.605446629501521e-18, stderr=0.03081931724902991, intercept_stderr=1.262973670383846)"
      ]
     },
     "execution_count": 150,
     "metadata": {},
     "output_type": "execute_result"
    }
   ],
   "source": [
    "linear_reg = st.linregress(capomulin_df['Tumor Volume (mm3)'], capomulin_df['Weight (g)'])\n",
    "linear_reg"
   ]
  },
  {
   "cell_type": "code",
   "execution_count": 168,
   "id": "35c36da3",
   "metadata": {},
   "outputs": [
    {
     "name": "stdout",
     "output_type": "stream",
     "text": [
      "The correlation coefficient is 0.84\n"
     ]
    },
    {
     "data": {
      "text/plain": [
       "Text(0, 0.5, 'Tumor Volume (mm3)')"
      ]
     },
     "execution_count": 168,
     "metadata": {},
     "output_type": "execute_result"
    },
    {
     "data": {
      "image/png": "[encoded data removed]",
      "text/plain": [
       "<Figure size 640x480 with 1 Axes>"
      ]
     },
     "metadata": {},
     "output_type": "display_data"
    }
   ],
   "source": [
    "(slope, intercept, rvalue, pvalue, stderr) = st.linregress(x_values, y_values)\n",
    "regress_values = slope * x_values + intercept\n",
    "\n",
    "\n",
    "correlation = st.pearsonr(x_values, y_values)\n",
    "print(f\"The correlation coefficient is {round(correlation[0],2)}\")\n",
    "\n",
    "plt.scatter(x_values, y_values)\n",
    "plt.plot(x_values, regress_values, color=\"Green\")\n",
    "\n",
    "plt.title(\"Capomulin Linear Results\")\n",
    "plt.xlabel(\"Weight (g)\")\n",
    "plt.ylabel(\"Tumor Volume (mm3)\")\n",
    "\n"
   ]
  },
  {
   "cell_type": "code",
   "execution_count": null,
   "id": "bf10002f",
   "metadata": {},
   "outputs": [],
   "source": []
  }
 ],
 "metadata": {
  "kernelspec": {
   "display_name": "Python 3 (ipykernel)",
   "language": "python",
   "name": "python3"
  },
  "language_info": {
   "codemirror_mode": {
    "name": "ipython",
    "version": 3
   },
   "file_extension": ".py",
   "mimetype": "text/x-python",
   "name": "python",
   "nbconvert_exporter": "python",
   "pygments_lexer": "ipython3",
   "version": "3.9.13"
  }
 },
 "nbformat": 4,
 "nbformat_minor": 5
}
